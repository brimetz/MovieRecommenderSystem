{
 "cells": [
  {
   "cell_type": "code",
   "execution_count": 6,
   "id": "48cfe95f",
   "metadata": {},
   "outputs": [],
   "source": [
    "# imports\n",
    "import pandas as pd\n",
    "from sklearn.metrics.pairwise import cosine_similarity\n",
    "\n",
    "import numpy as np\n",
    "from pathlib import Path\n",
    "import sys\n",
    "\n",
    "from sklearn.model_selection import train_test_split\n",
    "\n",
    "# add folder src/ to the python file\n",
    "sys.path.append(str(Path().resolve().parent / \"src\"))\n",
    "\n",
    "from data_preprocessing import load_data\n",
    "from collaborative_filtering import (\n",
    "    predict_rating_knn_item,\n",
    "    evaluate_model,\n",
    "    get_top_n_recommendations\n",
    "    )"
   ]
  },
  {
   "cell_type": "code",
   "execution_count": 7,
   "id": "94a1b062",
   "metadata": {},
   "outputs": [
    {
     "name": "stdout",
     "output_type": "stream",
     "text": [
      "Taux de remplissage (density) : 0.0635\n",
      "Sparsité (sparsity) : 0.9365\n",
      "Train: 80000 notes | Test: 20000 notes\n"
     ]
    }
   ],
   "source": [
    "# loading\n",
    "project_root = Path().resolve().parent\n",
    "data_dir = project_root / \"data\"\n",
    "\n",
    "movie_genres, ratings, user_movie_matrix, movies = load_data(\n",
    "    movies_path=str(data_dir / \"u.item\"),\n",
    "    ratings_path=str(data_dir / \"u.data\")\n",
    ")\n",
    "\n",
    "# Split train/test\n",
    "# we split ratings (not users)\n",
    "train_df, test_df = train_test_split(\n",
    "    ratings,\n",
    "    test_size=0.2,\n",
    "    random_state=42\n",
    ")\n",
    "\n",
    "print(f\"Train: {len(train_df)} notes | Test: {len(test_df)} notes\")\n",
    "\n",
    "train_matrix = train_df.pivot_table(index=\"user_id\", columns=\"title\", values=\"rating\")"
   ]
  },
  {
   "cell_type": "code",
   "execution_count": 8,
   "id": "5c85818e",
   "metadata": {},
   "outputs": [],
   "source": [
    "# we transpose because sklearn want to have the items in line\n",
    "item_item_similarity = pd.DataFrame(\n",
    "    cosine_similarity(train_matrix.T.fillna(0)),  # replace NaN by 0\n",
    "    index=train_matrix.columns,\n",
    "    columns=train_matrix.columns\n",
    ")"
   ]
  },
  {
   "cell_type": "code",
   "execution_count": 9,
   "id": "4888e9ab",
   "metadata": {},
   "outputs": [
    {
     "name": "stdout",
     "output_type": "stream",
     "text": [
      "RMSE (KNN Item): 0.9639\n",
      "MAE  (KNN Item): 0.7514\n"
     ]
    }
   ],
   "source": [
    "rmse_knn, mae_knn = evaluate_model(\n",
    "    lambda uid, title, matrix: predict_rating_knn_item(uid, title, matrix, item_item_similarity, k=10),\n",
    "    test_df,\n",
    "    train_matrix\n",
    ")\n",
    "\n",
    "print(f\"RMSE (KNN Item): {rmse_knn:.4f}\")\n",
    "print(f\"MAE  (KNN Item): {mae_knn:.4f}\")"
   ]
  },
  {
   "cell_type": "code",
   "execution_count": 10,
   "id": "fd30bbf6",
   "metadata": {},
   "outputs": [
    {
     "data": {
      "text/html": [
       "<div>\n",
       "<style scoped>\n",
       "    .dataframe tbody tr th:only-of-type {\n",
       "        vertical-align: middle;\n",
       "    }\n",
       "\n",
       "    .dataframe tbody tr th {\n",
       "        vertical-align: top;\n",
       "    }\n",
       "\n",
       "    .dataframe thead th {\n",
       "        text-align: right;\n",
       "    }\n",
       "</style>\n",
       "<table border=\"1\" class=\"dataframe\">\n",
       "  <thead>\n",
       "    <tr style=\"text-align: right;\">\n",
       "      <th></th>\n",
       "      <th>Film recommandé</th>\n",
       "      <th>Note prédite (estimation d'appréciation)</th>\n",
       "    </tr>\n",
       "  </thead>\n",
       "  <tbody>\n",
       "    <tr>\n",
       "      <th>0</th>\n",
       "      <td>Cinderella (1950)</td>\n",
       "      <td>4.91</td>\n",
       "    </tr>\n",
       "    <tr>\n",
       "      <th>1</th>\n",
       "      <td>Sword in the Stone, The (1963)</td>\n",
       "      <td>4.81</td>\n",
       "    </tr>\n",
       "    <tr>\n",
       "      <th>2</th>\n",
       "      <td>Oliver &amp; Company (1988)</td>\n",
       "      <td>4.81</td>\n",
       "    </tr>\n",
       "    <tr>\n",
       "      <th>3</th>\n",
       "      <td>Mr. Smith Goes to Washington (1939)</td>\n",
       "      <td>4.80</td>\n",
       "    </tr>\n",
       "    <tr>\n",
       "      <th>4</th>\n",
       "      <td>12 Angry Men (1957)</td>\n",
       "      <td>4.80</td>\n",
       "    </tr>\n",
       "    <tr>\n",
       "      <th>5</th>\n",
       "      <td>Speed (1994)</td>\n",
       "      <td>4.79</td>\n",
       "    </tr>\n",
       "    <tr>\n",
       "      <th>6</th>\n",
       "      <td>Great Escape, The (1963)</td>\n",
       "      <td>4.78</td>\n",
       "    </tr>\n",
       "    <tr>\n",
       "      <th>7</th>\n",
       "      <td>Little Princess, A (1995)</td>\n",
       "      <td>4.72</td>\n",
       "    </tr>\n",
       "    <tr>\n",
       "      <th>8</th>\n",
       "      <td>Alice in Wonderland (1951)</td>\n",
       "      <td>4.72</td>\n",
       "    </tr>\n",
       "    <tr>\n",
       "      <th>9</th>\n",
       "      <td>Tomorrow Never Dies (1997)</td>\n",
       "      <td>4.71</td>\n",
       "    </tr>\n",
       "  </tbody>\n",
       "</table>\n",
       "</div>"
      ],
      "text/plain": [
       "                       Film recommandé  \\\n",
       "0                    Cinderella (1950)   \n",
       "1       Sword in the Stone, The (1963)   \n",
       "2              Oliver & Company (1988)   \n",
       "3  Mr. Smith Goes to Washington (1939)   \n",
       "4                  12 Angry Men (1957)   \n",
       "5                         Speed (1994)   \n",
       "6             Great Escape, The (1963)   \n",
       "7            Little Princess, A (1995)   \n",
       "8           Alice in Wonderland (1951)   \n",
       "9           Tomorrow Never Dies (1997)   \n",
       "\n",
       "   Note prédite (estimation d'appréciation)  \n",
       "0                                      4.91  \n",
       "1                                      4.81  \n",
       "2                                      4.81  \n",
       "3                                      4.80  \n",
       "4                                      4.80  \n",
       "5                                      4.79  \n",
       "6                                      4.78  \n",
       "7                                      4.72  \n",
       "8                                      4.72  \n",
       "9                                      4.71  "
      ]
     },
     "metadata": {},
     "output_type": "display_data"
    }
   ],
   "source": [
    "# 🎯 Display personnalized recommendations for a user\n",
    "user_id = 42  # Examples but we can change to simulate an other user\n",
    "\n",
    "top_n_df = get_top_n_recommendations(\n",
    "    user_id=user_id,\n",
    "    ratings_matrix=train_matrix,\n",
    "    similarity_matrix=item_item_similarity,\n",
    "    k=10,\n",
    "    N=10\n",
    ")\n",
    "\n",
    "if not top_n_df.empty:\n",
    "    display(top_n_df)\n",
    "else:\n",
    "    print(\"There is no recommendation valid for that user.\")"
   ]
  }
 ],
 "metadata": {
  "kernelspec": {
   "display_name": "Python 3",
   "language": "python",
   "name": "python3"
  },
  "language_info": {
   "codemirror_mode": {
    "name": "ipython",
    "version": 3
   },
   "file_extension": ".py",
   "mimetype": "text/x-python",
   "name": "python",
   "nbconvert_exporter": "python",
   "pygments_lexer": "ipython3",
   "version": "3.11.9"
  }
 },
 "nbformat": 4,
 "nbformat_minor": 5
}
