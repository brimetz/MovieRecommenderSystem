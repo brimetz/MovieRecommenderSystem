{
 "cells": [
  {
   "cell_type": "code",
   "execution_count": 4,
   "id": "8ad7fc73",
   "metadata": {},
   "outputs": [
    {
     "data": {
      "text/plain": [
       "100000"
      ]
     },
     "execution_count": 4,
     "metadata": {},
     "output_type": "execute_result"
    }
   ],
   "source": [
    "import pandas as pd\n",
    "import sqlite3\n",
    "\n",
    "# u.data : user_id, movie_id, rating, timestamp (tab-separated)\n",
    "ratings_df = pd.read_csv(\"../data/u.data\", sep='\\t', names=['user_id', 'movie_id', 'rating', 'timestamp'])\n",
    "\n",
    "# u.item : movie_id | title | release_date | video_release_date | IMDb URL | genres (19 colonnes 0/1)\n",
    "columns = ['movie_id', 'title', 'release_date', 'video_release_date', 'IMDb_URL'] + [f'genre_{i}' for i in range(19)]\n",
    "movies_df = pd.read_csv(\"../data/u.item\", sep='|', names=columns, encoding='latin-1')\n",
    "\n",
    "# Connexion SQLite\n",
    "conn = sqlite3.connect(\"movielens_100k.db\")\n",
    "\n",
    "# Insérer dans SQLite\n",
    "movies_df.to_sql(\"movies\", conn, if_exists=\"replace\", index=False)\n",
    "ratings_df.to_sql(\"ratings\", conn, if_exists=\"replace\", index=False)"
   ]
  },
  {
   "cell_type": "code",
   "execution_count": null,
   "id": "c47a4260",
   "metadata": {},
   "outputs": [
    {
     "name": "stdout",
     "output_type": "stream",
     "text": [
      "   movie_id                       title  rating\n",
      "0        61  Three Colors: White (1994)       4\n",
      "1       189     Grand Day Out, A (1992)       3\n",
      "2        33            Desperado (1995)       4\n",
      "3       160  Glengarry Glen Ross (1992)       4\n",
      "4        20   Angels and Insects (1995)       4\n"
     ]
    }
   ],
   "source": [
    "# Movies rate by a user\n",
    "user_id = 1\n",
    "query_user_movies = f\"\"\"\n",
    "SELECT m.movie_id, m.title, r.rating\n",
    "FROM ratings r\n",
    "JOIN movies m ON r.movie_id = m.movie_id\n",
    "WHERE r.user_id = {user_id}\n",
    "\"\"\"\n",
    "user_movies = pd.read_sql_query(query_user_movies, conn)\n",
    "print(user_movies.head())"
   ]
  },
  {
   "cell_type": "code",
   "execution_count": null,
   "id": "cfad2fb0",
   "metadata": {},
   "outputs": [
    {
     "name": "stdout",
     "output_type": "stream",
     "text": [
      "   movie_id  avg_rating\n",
      "0      1449    4.625000\n",
      "1       408    4.491071\n",
      "2       318    4.466443\n",
      "3       169    4.466102\n",
      "4       483    4.456790\n"
     ]
    }
   ],
   "source": [
    "# average rating per movie\n",
    "query_avg = \"\"\"\n",
    "SELECT movie_id, AVG(rating) AS avg_rating\n",
    "FROM ratings\n",
    "GROUP BY movie_id\n",
    "HAVING COUNT(rating) >= 5\n",
    "ORDER BY avg_rating DESC\n",
    "\"\"\"\n",
    "top_movies = pd.read_sql_query(query_avg, conn)\n",
    "print(top_movies.head())"
   ]
  },
  {
   "cell_type": "code",
   "execution_count": 7,
   "id": "6a705fc8",
   "metadata": {},
   "outputs": [
    {
     "name": "stdout",
     "output_type": "stream",
     "text": [
      "Films similaires à 'Toy Story (1995)':\n",
      "['Aladdin and the King of Thieves (1996)', 'Aladdin (1992)', 'Goofy Movie, A (1995)', 'Love Bug, The (1969)', 'Santa Clause, The (1994)']\n"
     ]
    }
   ],
   "source": [
    "from sklearn.metrics.pairwise import cosine_similarity\n",
    "\n",
    "# Choisir un film préféré\n",
    "fav_movie = movies_df[movies_df['title'] == 'Toy Story (1995)']\n",
    "fav_vector = fav_movie.iloc[:, 5:].values  # colonnes genre_0 à genre_18\n",
    "\n",
    "# Similarité avec tous les films\n",
    "similarities = cosine_similarity(fav_vector, movies_df.iloc[:, 5:].values)\n",
    "similar_indices = similarities[0].argsort()[::-1][1:6]  # top 5\n",
    "recommended_titles = movies_df.iloc[similar_indices]['title'].tolist()\n",
    "print(\"Films similaires à 'Toy Story (1995)':\")\n",
    "print(recommended_titles)"
   ]
  },
  {
   "cell_type": "code",
   "execution_count": 9,
   "id": "c2951f59",
   "metadata": {},
   "outputs": [
    {
     "name": "stdout",
     "output_type": "stream",
     "text": [
      "Base SQLite créée avec succès : ../data/movielens_100k.db\n"
     ]
    }
   ],
   "source": [
    "import pandas as pd\n",
    "import sqlite3\n",
    "\n",
    "# --- Chemins vers les fichiers MovieLens 100k ---\n",
    "RATINGS_FILE = \"../data/u.data\"\n",
    "MOVIES_FILE = \"../data/u.item\"\n",
    "DB_FILE = \"../data/movielens_100k.db\"\n",
    "\n",
    "# --- Charger les ratings ---\n",
    "# u.data : user_id \\t movie_id \\t rating \\t timestamp\n",
    "ratings_cols = [\"user_id\", \"movie_id\", \"rating\", \"timestamp\"]\n",
    "ratings = pd.read_csv(RATINGS_FILE, sep=\"\\t\", names=ratings_cols, encoding=\"latin-1\")\n",
    "ratings = ratings.drop(columns=[\"timestamp\"])  # on n'a pas besoin du timestamp\n",
    "\n",
    "# --- Charger les films ---\n",
    "# u.item : movie_id | title | release_date | video_release_date | IMDb URL | genres (19 colonnes)\n",
    "movies_cols = [\n",
    "    \"movie_id\", \"title\", \"release_date\", \"video_release_date\", \"IMDb_URL\",\n",
    "    \"unknown\", \"Action\", \"Adventure\", \"Animation\", \"Children's\", \"Comedy\", \"Crime\",\n",
    "    \"Documentary\", \"Drama\", \"Fantasy\", \"Film-Noir\", \"Horror\", \"Musical\", \"Mystery\",\n",
    "    \"Romance\", \"Sci-Fi\", \"Thriller\", \"War\", \"Western\"\n",
    "]\n",
    "movies = pd.read_csv(MOVIES_FILE, sep=\"|\", names=movies_cols, encoding=\"latin-1\")\n",
    "\n",
    "# --- Ajouter une colonne genres concaténées pour NLP / TF-IDF ---\n",
    "genre_cols = movies_cols[5:]  # les 19 colonnes de genres\n",
    "movies[\"genres\"] = movies[genre_cols].apply(lambda x: \" \".join([genre for genre, flag in zip(genre_cols, x) if flag == 1]), axis=1)\n",
    "\n",
    "# --- Connexion SQLite ---\n",
    "conn = sqlite3.connect(DB_FILE)\n",
    "cursor = conn.cursor()\n",
    "\n",
    "# --- Créer tables ---\n",
    "cursor.execute(\"DROP TABLE IF EXISTS movies\")\n",
    "cursor.execute(\"DROP TABLE IF EXISTS ratings\")\n",
    "\n",
    "# --- Table movies ---\n",
    "movies_to_save = movies[[\"movie_id\", \"title\", \"genres\"]]\n",
    "movies_to_save.to_sql(\"movies\", conn, index=False)\n",
    "\n",
    "# --- Table ratings ---\n",
    "ratings.to_sql(\"ratings\", conn, index=False)\n",
    "\n",
    "conn.commit()\n",
    "conn.close()\n",
    "\n",
    "print(f\"Base SQLite créée avec succès : {DB_FILE}\")"
   ]
  },
  {
   "cell_type": "code",
   "execution_count": null,
   "id": "7b64f3cb",
   "metadata": {},
   "outputs": [
    {
     "name": "stdout",
     "output_type": "stream",
     "text": [
      "OK\n"
     ]
    }
   ],
   "source": [
    "import sqlite3\n",
    "conn = sqlite3.connect(r\"C:\\Users\\bapti\\MovieRecommenderSystem\\data\\movielens_100k.db\")\n",
    "print(\"OK\")"
   ]
  }
 ],
 "metadata": {
  "kernelspec": {
   "display_name": "Python 3",
   "language": "python",
   "name": "python3"
  },
  "language_info": {
   "codemirror_mode": {
    "name": "ipython",
    "version": 3
   },
   "file_extension": ".py",
   "mimetype": "text/x-python",
   "name": "python",
   "nbconvert_exporter": "python",
   "pygments_lexer": "ipython3",
   "version": "3.11.9"
  }
 },
 "nbformat": 4,
 "nbformat_minor": 5
}
