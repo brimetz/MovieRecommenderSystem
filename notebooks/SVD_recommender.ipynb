{
 "cells": [
  {
   "cell_type": "code",
   "execution_count": 7,
   "id": "f4ecec7b",
   "metadata": {},
   "outputs": [],
   "source": [
    "# train an SVD model\n",
    "from surprise import SVD\n",
    "from surprise.model_selection import train_test_split\n",
    "from surprise import accuracy, Dataset, Reader\n",
    "\n",
    "import pandas as pd\n",
    "from pathlib import Path\n",
    "import sys\n",
    "\n",
    "# add folder src/ to the python file\n",
    "sys.path.append(str(Path().resolve().parent / \"src\"))\n",
    "\n",
    "from data_preprocessing import load_data"
   ]
  },
  {
   "cell_type": "code",
   "execution_count": 8,
   "id": "0bc91be9",
   "metadata": {},
   "outputs": [
    {
     "name": "stdout",
     "output_type": "stream",
     "text": [
      "Taux de remplissage (density) : 0.0635\n",
      "Sparsité (sparsity) : 0.9365\n"
     ]
    }
   ],
   "source": [
    "# loading\n",
    "project_root = Path().resolve().parent\n",
    "data_dir = project_root / \"data\"\n",
    "\n",
    "movie_genres, ratings, user_movie_matrix, movies = load_data(\n",
    "    movies_path=str(data_dir / \"u.item\"),\n",
    "    ratings_path=str(data_dir / \"u.data\")\n",
    ")"
   ]
  },
  {
   "cell_type": "code",
   "execution_count": 9,
   "id": "71f9e245",
   "metadata": {},
   "outputs": [],
   "source": [
    "# prepare data for surprise\n",
    "reader = Reader(rating_scale=(1, 5))\n",
    "data = Dataset.load_from_df(ratings[[\"user_id\", \"movie_id\", \"rating\"]], reader)\n",
    "trainset, testset = train_test_split(data, test_size=0.2)"
   ]
  },
  {
   "cell_type": "code",
   "execution_count": 10,
   "id": "324d53c9",
   "metadata": {},
   "outputs": [
    {
     "data": {
      "text/plain": [
       "<surprise.prediction_algorithms.matrix_factorization.SVD at 0x12fe76bac10>"
      ]
     },
     "execution_count": 10,
     "metadata": {},
     "output_type": "execute_result"
    }
   ],
   "source": [
    "# Train the SVD model\n",
    "svd = SVD()\n",
    "svd.fit(trainset)"
   ]
  },
  {
   "cell_type": "code",
   "execution_count": 13,
   "id": "b30fec88",
   "metadata": {},
   "outputs": [
    {
     "name": "stdout",
     "output_type": "stream",
     "text": [
      "RMSE: 0.9379\n",
      "MAE:  0.7359\n"
     ]
    }
   ],
   "source": [
    "# Evaluate the SVD model\n",
    "# Predict on the test set\n",
    "predictions = svd.test(testset)\n",
    "\n",
    "# compute RMSE and MAE\n",
    "rmse = accuracy.rmse(predictions)\n",
    "mae = accuracy.mae(predictions)"
   ]
  }
 ],
 "metadata": {
  "kernelspec": {
   "display_name": "Python 3",
   "language": "python",
   "name": "python3"
  },
  "language_info": {
   "codemirror_mode": {
    "name": "ipython",
    "version": 3
   },
   "file_extension": ".py",
   "mimetype": "text/x-python",
   "name": "python",
   "nbconvert_exporter": "python",
   "pygments_lexer": "ipython3",
   "version": "3.11.9"
  }
 },
 "nbformat": 4,
 "nbformat_minor": 5
}
