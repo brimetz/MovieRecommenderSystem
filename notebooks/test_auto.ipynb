{
 "cells": [
  {
   "cell_type": "code",
   "execution_count": 1,
   "id": "75acdad9",
   "metadata": {},
   "outputs": [],
   "source": [
    "import sys\n",
    "import os\n",
    "\n",
    "# Ajouter le dossier parent au path\n",
    "sys.path.append(os.path.abspath(os.path.join(os.getcwd(), '..')))\n",
    "\n",
    "from tests.test_dummy import test_content_recommendation\n",
    "import src.reco as r\n",
    "import src.collaborative_filtering as cf\n",
    "\n"
   ]
  },
  {
   "cell_type": "code",
   "execution_count": 2,
   "id": "f4e0c3f0",
   "metadata": {},
   "outputs": [],
   "source": [
    "test_content_recommendation()"
   ]
  },
  {
   "cell_type": "code",
   "execution_count": 3,
   "id": "c2c01c43",
   "metadata": {},
   "outputs": [
    {
     "data": {
      "text/plain": [
       "'result = cf.get_similar_movies_cosine(\"Unkown\", df, sample_movies)\\n\\nassert result.empty'"
      ]
     },
     "execution_count": 3,
     "metadata": {},
     "output_type": "execute_result"
    }
   ],
   "source": [
    "import numpy as np\n",
    "import pytest\n",
    "import pandas as pd\n",
    "\n",
    "data = {\n",
    "    \"MovieA\": [5, 4, np.nan, 1],\n",
    "    \"MovieB\": [4, np.nan, 2, 1],\n",
    "    \"MovieC\": [np.nan, 3, 5, 1],\n",
    "    \"MovieD\": [4, 3, 5, 1],\n",
    "}\n",
    "df = pd.DataFrame(data, index=[\"User1\", \"User2\", \"User3\", \"User4\"])\n",
    "\n",
    "\"\"\"df[\"EmptyMovie\"] = [np.nan, np.nan, np.nan, np.nan]\n",
    "sample_movies =  pd.DataFrame({\n",
    "    \"movie_id\": [1, 2, 3, 4, 5],\n",
    "    \"title\": [\"MovieA\", \"MovieB\", \"MovieC\", \"MovieD\", \"EmptyMovie\"]\n",
    "})\"\"\"\n",
    "\n",
    "\"\"\"result = cf.get_similar_movies_cosine(\"Unkown\", df, sample_movies)\n",
    "\n",
    "assert result.empty\"\"\""
   ]
  },
  {
   "cell_type": "code",
   "execution_count": 4,
   "id": "3600d5c4",
   "metadata": {},
   "outputs": [],
   "source": [
    "sample_movies = pd.DataFrame({\n",
    "        \"movie_id\": [1, 2, 3, 4],\n",
    "        \"title\": [\"MovieA\", \"MovieB\", \"MovieC\", \"MovieD\"]\n",
    "    })\n",
    "\n",
    "sim = pd.DataFrame(\n",
    "    np.identity(4), index=df.columns, columns=df.columns\n",
    ")\n",
    "recs = cf.get_top_n_recommendations_knn(\"User1\", df, sim, sample_movies, k=1, N=2)\n",
    "assert \"Film recommandé\" in recs.columns"
   ]
  },
  {
   "cell_type": "code",
   "execution_count": null,
   "id": "48488374",
   "metadata": {},
   "outputs": [
    {
     "name": "stdout",
     "output_type": "stream",
     "text": [
      "          correlation  num_ratings\n",
      "movie_id                          \n",
      "1                 NaN            2\n",
      "2                 NaN            2\n",
      "3                 NaN            2\n",
      "          correlation  num_ratings\n",
      "movie_id                          \n",
      "1                 NaN            2\n",
      "2                 NaN            2\n",
      "3                 NaN            2\n",
      "   correlation  num_ratings  movie_id   title\n",
      "1          NaN            2         2  MovieB\n",
      "2          NaN            2         3  MovieC\n"
     ]
    },
    {
     "name": "stderr",
     "output_type": "stream",
     "text": [
      "C:\\Users\\bapti\\AppData\\Local\\Packages\\PythonSoftwareFoundation.Python.3.11_qbz5n2kfra8p0\\LocalCache\\local-packages\\Python311\\site-packages\\numpy\\lib\\function_base.py:2889: RuntimeWarning: Degrees of freedom <= 0 for slice\n",
      "  c = cov(x, y, rowvar, dtype=dtype)\n",
      "C:\\Users\\bapti\\AppData\\Local\\Packages\\PythonSoftwareFoundation.Python.3.11_qbz5n2kfra8p0\\LocalCache\\local-packages\\Python311\\site-packages\\numpy\\lib\\function_base.py:2748: RuntimeWarning: divide by zero encountered in divide\n",
      "  c *= np.true_divide(1, fact)\n",
      "C:\\Users\\bapti\\AppData\\Local\\Packages\\PythonSoftwareFoundation.Python.3.11_qbz5n2kfra8p0\\LocalCache\\local-packages\\Python311\\site-packages\\numpy\\lib\\function_base.py:2748: RuntimeWarning: invalid value encountered in multiply\n",
      "  c *= np.true_divide(1, fact)\n"
     ]
    },
    {
     "ename": "KeyError",
     "evalue": "\"Le film 'Film A' n'existe pas dans la base movies.\"",
     "output_type": "error",
     "traceback": [
      "\u001b[31m---------------------------------------------------------------------------\u001b[39m",
      "\u001b[31mKeyError\u001b[39m                                  Traceback (most recent call last)",
      "\u001b[36mCell\u001b[39m\u001b[36m \u001b[39m\u001b[32mIn[6]\u001b[39m\u001b[32m, line 25\u001b[39m\n\u001b[32m     15\u001b[39m result = r.recommend_by_user_ratings(\n\u001b[32m     16\u001b[39m     \u001b[33m\"\u001b[39m\u001b[33mMovieA\u001b[39m\u001b[33m\"\u001b[39m,\n\u001b[32m     17\u001b[39m     user_movie_matrix.copy(),\n\u001b[32m   (...)\u001b[39m\u001b[32m     21\u001b[39m     top_n=\u001b[32m2\u001b[39m,\n\u001b[32m     22\u001b[39m )\n\u001b[32m     24\u001b[39m \u001b[38;5;66;03m# ---- Cas normal ----\u001b[39;00m\n\u001b[32m---> \u001b[39m\u001b[32m25\u001b[39m result = \u001b[43mr\u001b[49m\u001b[43m.\u001b[49m\u001b[43mrecommend_by_user_ratings\u001b[49m\u001b[43m(\u001b[49m\n\u001b[32m     26\u001b[39m \u001b[43m    \u001b[49m\u001b[33;43m\"\u001b[39;49m\u001b[33;43mFilm A\u001b[39;49m\u001b[33;43m\"\u001b[39;49m\u001b[43m,\u001b[49m\u001b[43m \u001b[49m\u001b[43muser_movie_matrix\u001b[49m\u001b[43m.\u001b[49m\u001b[43mcopy\u001b[49m\u001b[43m(\u001b[49m\u001b[43m)\u001b[49m\u001b[43m,\u001b[49m\u001b[43m \u001b[49m\u001b[43mratings_data\u001b[49m\u001b[43m,\u001b[49m\u001b[43m \u001b[49m\u001b[43msample_movies\u001b[49m\u001b[43m,\u001b[49m\u001b[43m \u001b[49m\u001b[43mmin_ratings\u001b[49m\u001b[43m=\u001b[49m\u001b[32;43m1\u001b[39;49m\u001b[43m,\u001b[49m\u001b[43m \u001b[49m\u001b[43mtop_n\u001b[49m\u001b[43m=\u001b[49m\u001b[32;43m2\u001b[39;49m\n\u001b[32m     27\u001b[39m \u001b[43m)\u001b[49m\n\u001b[32m     29\u001b[39m \u001b[38;5;28mprint\u001b[39m(result)\n",
      "\u001b[36mFile \u001b[39m\u001b[32mc:\\Users\\bapti\\MovieRecommenderSystem\\src\\reco.py:28\u001b[39m, in \u001b[36mrecommend_by_user_ratings\u001b[39m\u001b[34m(film_title, user_movie_matrix, ratings, movies, min_ratings, top_n)\u001b[39m\n\u001b[32m     26\u001b[39m film_row = movies[movies[\u001b[33m\"\u001b[39m\u001b[33mtitle\u001b[39m\u001b[33m\"\u001b[39m] == film_title]\n\u001b[32m     27\u001b[39m \u001b[38;5;28;01mif\u001b[39;00m film_row.empty:\n\u001b[32m---> \u001b[39m\u001b[32m28\u001b[39m     \u001b[38;5;28;01mraise\u001b[39;00m \u001b[38;5;167;01mKeyError\u001b[39;00m(\u001b[33mf\u001b[39m\u001b[33m\"\u001b[39m\u001b[33mLe film \u001b[39m\u001b[33m'\u001b[39m\u001b[38;5;132;01m{\u001b[39;00mfilm_title\u001b[38;5;132;01m}\u001b[39;00m\u001b[33m'\u001b[39m\u001b[33m n\u001b[39m\u001b[33m'\u001b[39m\u001b[33mexiste pas dans la base movies.\u001b[39m\u001b[33m\"\u001b[39m)\n\u001b[32m     29\u001b[39m movie_id = \u001b[38;5;28mint\u001b[39m(film_row[\u001b[33m\"\u001b[39m\u001b[33mmovie_id\u001b[39m\u001b[33m\"\u001b[39m].iloc[\u001b[32m0\u001b[39m])\n\u001b[32m     31\u001b[39m \u001b[38;5;66;03m# --- Vérifier si la matrice est indexée par IDs ou par titres ---\u001b[39;00m\n",
      "\u001b[31mKeyError\u001b[39m: \"Le film 'Film A' n'existe pas dans la base movies.\""
     ]
    }
   ],
   "source": [
    "ratings_data = pd.DataFrame(\n",
    "    {\n",
    "        \"userId\": [1, 1, 2, 2, 3, 3],\n",
    "        \"movie_id\": [1, 2, 1, 3, 2, 3],\n",
    "        \"rating\": [5, 4, 4, 5, 3, 4],\n",
    "    }\n",
    ")\n",
    "\n",
    "# Matrice utilisateur-film\n",
    "user_movie_matrix = ratings_data.pivot_table(\n",
    "    index=\"userId\", columns=\"movie_id\", values=\"rating\"\n",
    ")\n",
    "\n",
    "# ---- Cas normal ----\n",
    "result = r.recommend_by_user_ratings(\n",
    "    \"MovieA\",\n",
    "    user_movie_matrix.copy(),\n",
    "    ratings_data,\n",
    "    sample_movies,\n",
    "    min_ratings=2,\n",
    "    top_n=2,\n",
    ")\n",
    "\n",
    "print(result)"
   ]
  },
  {
   "cell_type": "code",
   "execution_count": null,
   "id": "ffbd0b22",
   "metadata": {},
   "outputs": [
    {
     "name": "stdout",
     "output_type": "stream",
     "text": [
      "4\n"
     ]
    }
   ],
   "source": [
    "sample_user_movie_matrix= pd.DataFrame(\n",
    "        {\n",
    "            \"Film A\": [5, 4, None, 2],\n",
    "            \"Film B\": [4, 5, 3, None],\n",
    "            \"Film C\": [None, 2, 4, 3],\n",
    "            \"Film D\": [1, None, 5, 4],\n",
    "        },\n",
    "        index=[1, 2, 3, 4],\n",
    "    )\n",
    "\n",
    "sample_movies= pd.DataFrame({\n",
    "        \"movie_id\": [1, 2, 3, 4],\n",
    "        \"title\": [\"Film A\", \"Film B\", \"Film C\", \"Film D\"]\n",
    "    })\n",
    "\n",
    "result = cf.get_similar_movies_cosine(\n",
    "    target_title=\"Film A\",\n",
    "    user_movie_matrix=sample_user_movie_matrix, \n",
    "    movies=sample_movies,\n",
    "    min_common_ratings=1,\n",
    "    top_n=2,\n",
    ")\n",
    "assert not result.empty\n",
    "assert \"title\" in result.columns\n",
    "assert \"similarity\" in result.columns\n",
    "assert \"num_common_ratings\" in result.columns\n",
    "assert \"Film A\" not in result[\"title\"].values\n",
    "assert len(result) <= 2"
   ]
  }
 ],
 "metadata": {
  "kernelspec": {
   "display_name": "Python 3",
   "language": "python",
   "name": "python3"
  },
  "language_info": {
   "codemirror_mode": {
    "name": "ipython",
    "version": 3
   },
   "file_extension": ".py",
   "mimetype": "text/x-python",
   "name": "python",
   "nbconvert_exporter": "python",
   "pygments_lexer": "ipython3",
   "version": "3.11.9"
  }
 },
 "nbformat": 4,
 "nbformat_minor": 5
}
