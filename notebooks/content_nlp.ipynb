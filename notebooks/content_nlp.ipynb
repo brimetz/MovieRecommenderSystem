{
 "cells": [
  {
   "cell_type": "code",
   "execution_count": 1,
   "id": "f643491f",
   "metadata": {},
   "outputs": [],
   "source": [
    "# 📦 Imports\n",
    "import pandas as pd\n",
    "\n",
    "from pathlib import Path\n",
    "import sys\n",
    "\n",
    "# add folder src/ to the python file\n",
    "sys.path.append(str(Path().resolve().parent / \"src\"))\n",
    "\n",
    "from content_based_reco import (\n",
    "    get_nlp_content_based_recommendations,\n",
    "    merge_movies_overviews, \n",
    "    load_content_based_data\n",
    ")"
   ]
  },
  {
   "cell_type": "code",
   "execution_count": 2,
   "id": "7882a007",
   "metadata": {},
   "outputs": [
    {
     "name": "stdout",
     "output_type": "stream",
     "text": [
      "../data/u.item\n"
     ]
    }
   ],
   "source": [
    "df_movies = load_content_based_data(\"../data/u.item\")"
   ]
  },
  {
   "cell_type": "code",
   "execution_count": 3,
   "id": "b48acce5",
   "metadata": {},
   "outputs": [
    {
     "name": "stdout",
     "output_type": "stream",
     "text": [
      "Aucun nouveau résumé à ajouter.\n"
     ]
    }
   ],
   "source": [
    "# Get the overview from the Movie DataBase and load it inside df_movies\n",
    "\n",
    "import requests\n",
    "import time\n",
    "\n",
    "# Remplace par ta propre clé\n",
    "TMDB_API_KEY = \"577e1c3e4565b15c362cbc3e21cd613b\"\n",
    "\n",
    "def get_movie_overview(title, year=None):\n",
    "    base_url = \"https://api.themoviedb.org/3/search/movie\"\n",
    "    params = {\n",
    "        \"api_key\": TMDB_API_KEY,\n",
    "        \"query\": title,\n",
    "        \"language\": \"en-US\"\n",
    "    }\n",
    "    if year:\n",
    "        params[\"year\"] = year\n",
    "\n",
    "    response = requests.get(base_url, params=params)\n",
    "    if response.status_code != 200:\n",
    "        return None\n",
    "\n",
    "    results = response.json().get(\"results\")\n",
    "    if not results:\n",
    "        return None\n",
    "\n",
    "    return results[0].get(\"overview\")\n",
    "\n",
    "# Échantillon de films à traiter\n",
    "sample_movies = df_movies[[\"movie_id\", \"title\"]]\n",
    "\n",
    "# Chemin du fichier sauvegardé\n",
    "project_root = Path().resolve().parent  # Remonte d’un dossier\n",
    "overview_file = project_root / \"data\" / \"movie_overviews_sample.csv\"\n",
    "\n",
    "# Charger les résumés déjà récupérés s'ils existent\n",
    "if overview_file.exists():\n",
    "    overviews_df = pd.read_csv(overview_file)\n",
    "else:\n",
    "    overviews_df = pd.DataFrame(columns=[\"movie_id\", \"title\", \"overview\"])\n",
    "\n",
    "# Supprimer les doublons déjà traités\n",
    "titles_done = set(overviews_df[\"title\"])\n",
    "to_fetch = sample_movies[~sample_movies[\"title\"].isin(titles_done)]\n",
    "\n",
    "# Récupération des résumés manquants\n",
    "new_rows = []\n",
    "for _, row in to_fetch.iterrows():\n",
    "    title = row[\"title\"]\n",
    "    overview = get_movie_overview(title)\n",
    "    if overview is None:\n",
    "        print(f\"❌ Aucun résumé trouvé pour : {title}\")\n",
    "    new_rows.append({\n",
    "        \"movie_id\": row[\"movie_id\"],\n",
    "        \"title\": title,\n",
    "        \"overview\": overview\n",
    "    })\n",
    "    time.sleep(0.2)  # éviter de spammer l'API\n",
    "\n",
    "# Ajout au fichier existant\n",
    "if new_rows:\n",
    "    overviews_df = pd.concat([overviews_df, pd.DataFrame(new_rows)], ignore_index=True)\n",
    "    overviews_df.to_csv(overview_file, index=False)\n",
    "    print(f\"Ajout de {len(new_rows)} nouveaux résumés sauvegardés dans {overview_file}\")\n",
    "else:\n",
    "    print(\"Aucun nouveau résumé à ajouter.\")"
   ]
  },
  {
   "cell_type": "code",
   "execution_count": 4,
   "id": "dc0b5e9d",
   "metadata": {},
   "outputs": [
    {
     "name": "stdout",
     "output_type": "stream",
     "text": [
      "Index(['movie_id_x', 'title', 'genres', 'movie_id_y', 'overview'], dtype='object')\n"
     ]
    }
   ],
   "source": [
    "# Fusionner les deux datasets sur le titre\n",
    "df = merge_movies_overviews(df_movies, overviews_df)"
   ]
  },
  {
   "cell_type": "code",
   "execution_count": 5,
   "id": "51b4d140",
   "metadata": {},
   "outputs": [
    {
     "name": "stdout",
     "output_type": "stream",
     "text": [
      "Matrice de similarité shape : (1704, 1704)\n"
     ]
    }
   ],
   "source": [
    "from sklearn.feature_extraction.text import TfidfVectorizer\n",
    "from sklearn.metrics.pairwise import cosine_similarity\n",
    "\n",
    "tfidf = TfidfVectorizer(stop_words=\"english\")\n",
    "tfidf_matrix = tfidf.fit_transform(df[\"text_features\"])\n",
    "\n",
    "cosine_sim = cosine_similarity(tfidf_matrix, tfidf_matrix)\n",
    "\n",
    "print(f\"Matrice de similarité shape : {cosine_sim.shape}\")"
   ]
  },
  {
   "cell_type": "code",
   "execution_count": 6,
   "id": "1c79d5bb",
   "metadata": {},
   "outputs": [
    {
     "data": {
      "text/html": [
       "<div>\n",
       "<style scoped>\n",
       "    .dataframe tbody tr th:only-of-type {\n",
       "        vertical-align: middle;\n",
       "    }\n",
       "\n",
       "    .dataframe tbody tr th {\n",
       "        vertical-align: top;\n",
       "    }\n",
       "\n",
       "    .dataframe thead th {\n",
       "        text-align: right;\n",
       "    }\n",
       "</style>\n",
       "<table border=\"1\" class=\"dataframe\">\n",
       "  <thead>\n",
       "    <tr style=\"text-align: right;\">\n",
       "      <th></th>\n",
       "      <th>title</th>\n",
       "      <th>Score de similarité</th>\n",
       "    </tr>\n",
       "  </thead>\n",
       "  <tbody>\n",
       "    <tr>\n",
       "      <th>0</th>\n",
       "      <td>Pyromaniac's Love Story, A (1995)</td>\n",
       "      <td>0.35</td>\n",
       "    </tr>\n",
       "    <tr>\n",
       "      <th>1</th>\n",
       "      <td>Story of Xinghua, The (1993)</td>\n",
       "      <td>0.30</td>\n",
       "    </tr>\n",
       "    <tr>\n",
       "      <th>2</th>\n",
       "      <td>Now and Then (1995)</td>\n",
       "      <td>0.28</td>\n",
       "    </tr>\n",
       "    <tr>\n",
       "      <th>3</th>\n",
       "      <td>To Have, or Not (1995)</td>\n",
       "      <td>0.28</td>\n",
       "    </tr>\n",
       "    <tr>\n",
       "      <th>4</th>\n",
       "      <td>Philadelphia Story, The (1940)</td>\n",
       "      <td>0.28</td>\n",
       "    </tr>\n",
       "    <tr>\n",
       "      <th>5</th>\n",
       "      <td>FairyTale: A True Story (1997)</td>\n",
       "      <td>0.26</td>\n",
       "    </tr>\n",
       "    <tr>\n",
       "      <th>6</th>\n",
       "      <td>NeverEnding Story III, The (1994)</td>\n",
       "      <td>0.26</td>\n",
       "    </tr>\n",
       "    <tr>\n",
       "      <th>7</th>\n",
       "      <td>Entertaining Angels: The Dorothy Day Story (1996)</td>\n",
       "      <td>0.20</td>\n",
       "    </tr>\n",
       "    <tr>\n",
       "      <th>8</th>\n",
       "      <td>Police Story 4: Project S (Chao ji ji hua) (1993)</td>\n",
       "      <td>0.14</td>\n",
       "    </tr>\n",
       "    <tr>\n",
       "      <th>9</th>\n",
       "      <td>Wife, The (1995)</td>\n",
       "      <td>0.12</td>\n",
       "    </tr>\n",
       "  </tbody>\n",
       "</table>\n",
       "</div>"
      ],
      "text/plain": [
       "                                               title  Score de similarité\n",
       "0                  Pyromaniac's Love Story, A (1995)                 0.35\n",
       "1                       Story of Xinghua, The (1993)                 0.30\n",
       "2                                Now and Then (1995)                 0.28\n",
       "3                             To Have, or Not (1995)                 0.28\n",
       "4                     Philadelphia Story, The (1940)                 0.28\n",
       "5                     FairyTale: A True Story (1997)                 0.26\n",
       "6                  NeverEnding Story III, The (1994)                 0.26\n",
       "7  Entertaining Angels: The Dorothy Day Story (1996)                 0.20\n",
       "8  Police Story 4: Project S (Chao ji ji hua) (1993)                 0.14\n",
       "9                                   Wife, The (1995)                 0.12"
      ]
     },
     "execution_count": 6,
     "metadata": {},
     "output_type": "execute_result"
    }
   ],
   "source": [
    "get_nlp_content_based_recommendations(\"Toy Story (1995)\", cosine_sim, df)"
   ]
  }
 ],
 "metadata": {
  "kernelspec": {
   "display_name": "Python 3",
   "language": "python",
   "name": "python3"
  },
  "language_info": {
   "codemirror_mode": {
    "name": "ipython",
    "version": 3
   },
   "file_extension": ".py",
   "mimetype": "text/x-python",
   "name": "python",
   "nbconvert_exporter": "python",
   "pygments_lexer": "ipython3",
   "version": "3.11.9"
  }
 },
 "nbformat": 4,
 "nbformat_minor": 5
}
