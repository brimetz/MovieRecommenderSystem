{
 "cells": [
  {
   "cell_type": "code",
   "execution_count": 1,
   "id": "89f0b4d7",
   "metadata": {},
   "outputs": [],
   "source": [
    "#import\n",
    "import pandas as pd\n",
    "import numpy as np\n",
    "from pathlib import Path\n",
    "import sys\n",
    "\n",
    "from sklearn.metrics import mean_squared_error, mean_absolute_error\n",
    "from sklearn.model_selection import train_test_split\n",
    "\n",
    "# add folder src/ to the python file\n",
    "sys.path.append(str(Path().resolve().parent / \"src\"))\n",
    "\n",
    "from data_preprocessing import load_data\n",
    "from collaborative_filtering import (\n",
    "    predict_rating,\n",
    "    predict_rating_fast,\n",
    "    predict_mean_rating,\n",
    "    predict_random_rating,\n",
    "    evaluate_model\n",
    "    )"
   ]
  },
  {
   "cell_type": "code",
   "execution_count": 2,
   "id": "e32200ae",
   "metadata": {},
   "outputs": [
    {
     "name": "stdout",
     "output_type": "stream",
     "text": [
      "Taux de remplissage (density) : 0.0635\n",
      "Sparsité (sparsity) : 0.9365\n"
     ]
    }
   ],
   "source": [
    "# loading\n",
    "project_root = Path().resolve().parent\n",
    "data_dir = project_root / \"data\"\n",
    "\n",
    "movie_genres, ratings, user_movie_matrix, movies = load_data(\n",
    "    movies_path=str(data_dir / \"u.item\"),\n",
    "    ratings_path=str(data_dir / \"u.data\")\n",
    ")"
   ]
  },
  {
   "cell_type": "code",
   "execution_count": 3,
   "id": "c505d7e1",
   "metadata": {},
   "outputs": [
    {
     "name": "stdout",
     "output_type": "stream",
     "text": [
      "Train: 80000 notes | Test: 20000 notes\n"
     ]
    }
   ],
   "source": [
    "# Split train/test\n",
    "# we split ratings (not users)\n",
    "train_df, test_df = train_test_split(\n",
    "    ratings,\n",
    "    test_size=0.2,\n",
    "    random_state=42\n",
    ")\n",
    "\n",
    "print(f\"Train: {len(train_df)} notes | Test: {len(test_df)} notes\")"
   ]
  },
  {
   "cell_type": "code",
   "execution_count": 4,
   "id": "655141e1",
   "metadata": {},
   "outputs": [],
   "source": [
    "train_matrix = train_df.pivot_table(index=\"user_id\", columns=\"title\", values=\"rating\")"
   ]
  },
  {
   "cell_type": "code",
   "execution_count": 5,
   "id": "6b4efbea",
   "metadata": {},
   "outputs": [
    {
     "name": "stdout",
     "output_type": "stream",
     "text": [
      "🔍 Utilisateurs dans le test non vus en train : 0\n",
      "🔍 Films dans le test non vus en train : 29\n"
     ]
    }
   ],
   "source": [
    "train_users = set(train_df[\"user_id\"])\n",
    "train_movies = set(train_df[\"title\"])\n",
    "\n",
    "test_users = set(test_df[\"user_id\"])\n",
    "test_movies = set(test_df[\"title\"])\n",
    "\n",
    "print(\"🔍 Utilisateurs dans le test non vus en train :\", len(test_users - train_users))\n",
    "print(\"🔍 Films dans le test non vus en train :\", len(test_movies - train_movies))"
   ]
  },
  {
   "cell_type": "code",
   "execution_count": 6,
   "id": "cd05a98e",
   "metadata": {},
   "outputs": [
    {
     "name": "stderr",
     "output_type": "stream",
     "text": [
      "C:\\Users\\Medusa\\AppData\\Local\\Packages\\PythonSoftwareFoundation.Python.3.11_qbz5n2kfra8p0\\LocalCache\\local-packages\\Python311\\site-packages\\numpy\\lib\\_function_base_impl.py:3057: RuntimeWarning: Degrees of freedom <= 0 for slice\n",
      "  c = cov(x, y, rowvar, dtype=dtype)\n",
      "C:\\Users\\Medusa\\AppData\\Local\\Packages\\PythonSoftwareFoundation.Python.3.11_qbz5n2kfra8p0\\LocalCache\\local-packages\\Python311\\site-packages\\numpy\\lib\\_function_base_impl.py:2914: RuntimeWarning: divide by zero encountered in divide\n",
      "  c *= np.true_divide(1, fact)\n",
      "C:\\Users\\Medusa\\AppData\\Local\\Packages\\PythonSoftwareFoundation.Python.3.11_qbz5n2kfra8p0\\LocalCache\\local-packages\\Python311\\site-packages\\numpy\\lib\\_function_base_impl.py:2914: RuntimeWarning: invalid value encountered in multiply\n",
      "  c *= np.true_divide(1, fact)\n",
      "C:\\Users\\Medusa\\AppData\\Local\\Packages\\PythonSoftwareFoundation.Python.3.11_qbz5n2kfra8p0\\LocalCache\\local-packages\\Python311\\site-packages\\numpy\\lib\\_function_base_impl.py:3065: RuntimeWarning: invalid value encountered in divide\n",
      "  c /= stddev[:, None]\n",
      "C:\\Users\\Medusa\\AppData\\Local\\Packages\\PythonSoftwareFoundation.Python.3.11_qbz5n2kfra8p0\\LocalCache\\local-packages\\Python311\\site-packages\\numpy\\lib\\_function_base_impl.py:3066: RuntimeWarning: invalid value encountered in divide\n",
      "  c /= stddev[None, :]\n"
     ]
    },
    {
     "name": "stdout",
     "output_type": "stream",
     "text": [
      "500 prédictions réalisées sur 500 exemples.\n"
     ]
    }
   ],
   "source": [
    "# Prediction loop\n",
    "sample_test:pd.DataFrame = test_df.sample(n=500, random_state=42)\n",
    "\n",
    "sample_test = sample_test[\n",
    "    sample_test[\"user_id\"].isin(train_users) &\n",
    "    sample_test[\"title\"].isin(train_movies)\n",
    "]\n",
    "\n",
    "y_true = []\n",
    "y_pred = []\n",
    "\n",
    "for _, row in sample_test.iterrows():\n",
    "    user_id = row[\"user_id\"]\n",
    "    movie_title = row[\"title\"]\n",
    "    true_rating = row[\"rating\"]\n",
    "\n",
    "    predicted_rating = predict_rating(user_id, movie_title, train_matrix)\n",
    "\n",
    "    if not np.isnan(predicted_rating):\n",
    "        y_true.append(true_rating)\n",
    "        y_pred.append(predicted_rating)\n",
    "\n",
    "print(f\"{len(y_pred)} prédictions réalisées sur {len(sample_test)} exemples.\")"
   ]
  },
  {
   "cell_type": "code",
   "execution_count": 7,
   "id": "5ffd461f",
   "metadata": {},
   "outputs": [
    {
     "name": "stdout",
     "output_type": "stream",
     "text": [
      "📈 RMSE : 1.8414\n",
      "📉 MAE  : 1.5309\n"
     ]
    }
   ],
   "source": [
    "mse = mean_squared_error(y_true, y_pred)\n",
    "rmse = np.sqrt(mse)\n",
    "mae = mean_absolute_error(y_true, y_pred)\n",
    "\n",
    "print(f\"📈 RMSE : {rmse:.4f}\")\n",
    "print(f\"📉 MAE  : {mae:.4f}\")"
   ]
  },
  {
   "cell_type": "code",
   "execution_count": 10,
   "id": "d6805ab1",
   "metadata": {},
   "outputs": [
    {
     "name": "stdout",
     "output_type": "stream",
     "text": [
      "🎯 Moyenne globale – RMSE : 1.0195, MAE : 0.8114\n",
      "🎲 Aléatoire – RMSE : 1.6931, MAE : 1.3838\n",
      "🤝 Collaboratif (item-item) –  RMSE : 1.7653, MAE : 1.4550\n"
     ]
    }
   ],
   "source": [
    "rmse_mean, mae_mean = evaluate_model(\n",
    "    lambda user_id, title, matrix: predict_mean_rating(title, matrix),\n",
    "    test_df, train_matrix\n",
    ")\n",
    "print(f\"🎯 Moyenne globale – RMSE : {rmse_mean:.4f}, MAE : {mae_mean:.4f}\")\n",
    "\n",
    "rmse_rand, mae_rand = evaluate_model(\n",
    "    lambda user_id, title, matrix: predict_random_rating(),\n",
    "    test_df, train_matrix\n",
    ")\n",
    "print(f\"🎲 Aléatoire – RMSE : {rmse_rand:.4f}, MAE : {mae_rand:.4f}\")\n",
    "\n",
    "\n",
    "# Corrélation entre les films (colonnes)\n",
    "item_similarity = train_matrix.corr(method=\"pearson\", min_periods=5)\n",
    "rmse_item, mae_item = evaluate_model(\n",
    "    lambda user_id, title, matrix: predict_rating_fast(user_id, title, matrix, item_similarity),\n",
    "    test_df,\n",
    "    train_matrix\n",
    ")\n",
    "print(f\"🤝 Collaboratif (item-item) –  RMSE : {rmse_item:.4f}, MAE : {mae_item:.4f}\")"
   ]
  },
  {
   "cell_type": "code",
   "execution_count": 11,
   "id": "83a6f7c1",
   "metadata": {},
   "outputs": [
    {
     "name": "stdout",
     "output_type": "stream",
     "text": [
      "                     Modèle      RMSE       MAE\n",
      "0  Collaboratif (item-item)  1.765345  1.454952\n",
      "1           Moyenne globale  1.019510  0.811353\n",
      "2                 Aléatoire  1.693068  1.383805\n"
     ]
    }
   ],
   "source": [
    "results_df = pd.DataFrame({\n",
    "    \"Modèle\": [\"Collaboratif (item-item)\", \"Moyenne globale\", \"Aléatoire\"],\n",
    "    \"RMSE\": [rmse_item, rmse_mean, rmse_rand],\n",
    "    \"MAE\": [mae_item, mae_mean, mae_rand]\n",
    "})\n",
    "print(results_df)"
   ]
  }
 ],
 "metadata": {
  "kernelspec": {
   "display_name": "Python 3",
   "language": "python",
   "name": "python3"
  },
  "language_info": {
   "codemirror_mode": {
    "name": "ipython",
    "version": 3
   },
   "file_extension": ".py",
   "mimetype": "text/x-python",
   "name": "python",
   "nbconvert_exporter": "python",
   "pygments_lexer": "ipython3",
   "version": "3.11.9"
  }
 },
 "nbformat": 4,
 "nbformat_minor": 5
}
